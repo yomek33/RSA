{
  "nbformat": 4,
  "nbformat_minor": 0,
  "metadata": {
    "colab": {
      "provenance": [],
      "authorship_tag": "ABX9TyOpVDGD/QnNIXrNyMqpl1+/",
      "include_colab_link": true
    },
    "kernelspec": {
      "name": "python3",
      "display_name": "Python 3"
    },
    "language_info": {
      "name": "python"
    }
  },
  "cells": [
    {
      "cell_type": "markdown",
      "metadata": {
        "id": "view-in-github",
        "colab_type": "text"
      },
      "source": [
        "<a href=\"https://colab.research.google.com/github/yomek33/RSA/blob/main/RSA.ipynb\" target=\"_parent\"><img src=\"https://colab.research.google.com/assets/colab-badge.svg\" alt=\"Open In Colab\"/></a>"
      ]
    },
    {
      "cell_type": "markdown",
      "source": [
        "KeyGen(鍵作成）：鍵長kから公開鍵pkおよび秘密鍵skを作成"
      ],
      "metadata": {
        "id": "ap4MhSzDc2W6"
      }
    },
    {
      "cell_type": "code",
      "execution_count": null,
      "metadata": {
        "id": "lEIxCsgDcwkJ",
        "colab": {
          "base_uri": "https://localhost:8080/"
        },
        "outputId": "6284c718-149f-45e8-85e1-0187e5ff5fba"
      },
      "outputs": [
        {
          "output_type": "execute_result",
          "data": {
            "text/plain": [
              "(132, 3, 37)"
            ]
          },
          "metadata": {},
          "execution_count": 50
        }
      ],
      "source": [
        "import math\n",
        "import random\n",
        "\n",
        "#ミラーラビンテスト\n",
        "def is_prime(n):\n",
        "    if n == 2: return True\n",
        "    if n == 1 or n & 1 == 0: return False\n",
        "\n",
        "    d = (n - 1) >> 1\n",
        "    while d & 1 == 0:\n",
        "        d >>= 1\n",
        "\n",
        "    for k in range(100):\n",
        "        a = random.randint(1, n - 1)\n",
        "        t = d\n",
        "        y = pow(a, t, n)\n",
        "\n",
        "        while t != n - 1 and y != 1 and y != n - 1:\n",
        "            y = (y * y) % n\n",
        "            t <<= 1\n",
        "\n",
        "        if y != n - 1 and t & 1 == 0:\n",
        "            return False\n",
        "\n",
        "    return True\n",
        "\n",
        "def Keygen(k):\n",
        "  #kbitの素数を2つ選ぶ\n",
        "  while(1):\n",
        "    a=random.randint(2**(k-1),2**k-1)\n",
        "    if is_prime(a):\n",
        "      p=a\n",
        "      break\n",
        "  \n",
        "  while(1):\n",
        "    a=random.randint(2**(k-1),2**k-1)\n",
        "    if is_prime(a) & a!=p:\n",
        "      q=a\n",
        "      break\n",
        "  \n",
        "  n=p*q\n",
        "  k=(p-1)*(q-1)\n",
        "  #kと互いに素な数e\n",
        "  for i in range(2,k):\n",
        "    if math.gcd(i,k)==1:\n",
        "      e=i\n",
        "      break\n",
        "    else:\n",
        "      continue\n",
        "  #ed =1(mod k)になるd\n",
        "  for i in range(k):\n",
        "    if e*i %k==1:\n",
        "      d=i\n",
        "      break\n",
        "  return(n,e,d)\n",
        "\n",
        "Keygen(4)\n",
        "\n",
        "\n",
        "\n",
        "\n",
        "  "
      ]
    },
    {
      "cell_type": "markdown",
      "source": [
        "Enc(暗号化):公開鍵pkと平文mから暗号文cを作成"
      ],
      "metadata": {
        "id": "I7g5GSRBj4Qn"
      }
    },
    {
      "cell_type": "code",
      "source": [
        "def Enc(pk,m):\n",
        "  e,n=pk\n",
        " \n",
        "  c=[pow(i,e,n) for i in m]\n",
        "  return c\n",
        "  \n",
        "def enc(pk,m):\n",
        "  e,n=pk\n",
        "  c=pow(m,e,n)\n",
        "  return c"
      ],
      "metadata": {
        "id": "qnXywK1SkI5O"
      },
      "execution_count": null,
      "outputs": []
    },
    {
      "cell_type": "markdown",
      "source": [
        "Dec(復号):公開鍵pkと秘密鍵skと暗号文cから平文m'を計算"
      ],
      "metadata": {
        "id": "x_JqyXPXngr4"
      }
    },
    {
      "cell_type": "code",
      "source": [
        "def Dec(sk,c):\n",
        "  d,n=sk\n",
        "  \n",
        "  decrypted_m=[pow(i,d,n) for i in c]\n",
        " \n",
        "  return decrypted_m\n",
        "\n",
        "def dec(sk,c):\n",
        "  d,n=sk\n",
        "  decrypted_m=pow(c,d,n)\n",
        "  return decrypted_m"
      ],
      "metadata": {
        "id": "TcDj7NSSlvvs"
      },
      "execution_count": null,
      "outputs": []
    },
    {
      "cell_type": "code",
      "source": [
        "k=4\n",
        "n,e,d=Keygen(k)\n",
        "m=[1,2,3]\n",
        "pk=e,n\n",
        "sk=d,n\n",
        "c=Enc(pk,m)\n",
        "Dec(sk,c)\n",
        "\n"
      ],
      "metadata": {
        "colab": {
          "base_uri": "https://localhost:8080/"
        },
        "id": "dsK_5Y-cpzGy",
        "outputId": "a963c721-322b-4375-b95c-10f43ec9f62e"
      },
      "execution_count": null,
      "outputs": [
        {
          "output_type": "execute_result",
          "data": {
            "text/plain": [
              "[1, 2, 3]"
            ]
          },
          "metadata": {},
          "execution_count": 51
        }
      ]
    },
    {
      "cell_type": "markdown",
      "source": [
        "Mult(準同型演算):２つの暗号文c1,c2から暗号文c'を計算"
      ],
      "metadata": {
        "id": "KDG20vukqx4f"
      }
    },
    {
      "cell_type": "code",
      "source": [
        "def Mult(c1,c2):\n",
        "  c=c1*c2\n",
        "  return c\n",
        "c1=2\n",
        "c2=5\n",
        "m=Mult(c1,c2)\n",
        "k=5\n",
        "n,e,d=Keygen(k)\n",
        "\n",
        "pk=e,n\n",
        "sk=d,n\n",
        "c=enc(pk,m)\n",
        "dec(sk,c)\n",
        "\n",
        "\n"
      ],
      "metadata": {
        "id": "2efly4Obqwqt",
        "colab": {
          "base_uri": "https://localhost:8080/"
        },
        "outputId": "8daaa354-cbfe-4ac0-a4bc-425772833b16"
      },
      "execution_count": null,
      "outputs": [
        {
          "output_type": "execute_result",
          "data": {
            "text/plain": [
              "48"
            ]
          },
          "metadata": {},
          "execution_count": 29
        }
      ]
    }
  ]
}